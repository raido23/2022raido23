{
  "nbformat": 4,
  "nbformat_minor": 0,
  "metadata": {
    "colab": {
      "name": "4주차 과제 제출.ipynb",
      "provenance": [],
      "collapsed_sections": [],
      "authorship_tag": "ABX9TyPr3AJ9WOYmi0Es39007AKg",
      "include_colab_link": true
    },
    "kernelspec": {
      "name": "python3",
      "display_name": "Python 3"
    },
    "language_info": {
      "name": "python"
    }
  },
  "cells": [
    {
      "cell_type": "markdown",
      "metadata": {
        "id": "view-in-github",
        "colab_type": "text"
      },
      "source": [
        "<a href=\"https://colab.research.google.com/github/raido23/2022raido23/blob/main/4%EC%A3%BC%EC%B0%A8_%EA%B3%BC%EC%A0%9C_%EC%A0%9C%EC%B6%9C.ipynb\" target=\"_parent\"><img src=\"https://colab.research.google.com/assets/colab-badge.svg\" alt=\"Open In Colab\"/></a>"
      ]
    },
    {
      "cell_type": "markdown",
      "source": [
        "초등학교 통계 : https://docs.google.com/spreadsheets/d/1sxB8JoPzSA8FO7fTlRiIAI26V3QvPCnAunAXhc8N0ZI/edit?usp=sharing\n",
        "\n",
        "인구 통계 : https://docs.google.com/spreadsheets/d/1ne9KsWH7AarImaoJyYBlocdKkpUB_zSp7jeQvrEHspc/edit?usp=sharing\n",
        "\n",
        "이번 주 과제로 충남 인구와 초등학교 인구수 관계를 그래프로 표현해 봤습니다.\n",
        "\n",
        "충남 인구와 초등학교수 모두 줄어들고 있지 않을까라는 생각으로 해봤습니다.\n",
        "\n",
        "충남의 인구는 정점을 찍었지만 초등학교수는 계속 늘어나고 있습니다.\n",
        "\n",
        "2013~2014년에 인구가 늘어날 때 초등학교의 수는 늘어나지 않다 뒤늦게\n",
        "증가하는 모습입니다.\n",
        "\n",
        "물론 연령별 인구가 아니라 단순 인구수라 정확하지는 않은 것 같습니다.\n",
        "\n",
        "다음에는 연령별 인구로 한번 해봐야겠습니다.\n",
        "감사합니다."
      ],
      "metadata": {
        "id": "ZmbUvGIxfgPY"
      }
    },
    {
      "cell_type": "code",
      "execution_count": null,
      "metadata": {
        "id": "JAf1M6nGSEmm"
      },
      "outputs": [],
      "source": [
        "!apt-get install fonts-nanum -qq > /dev/null # 한글폰트설치\n",
        "!fc-cache -fv\n",
        "import matplotlib as mpl \n",
        "mpl.font_manager._rebuild()\n",
        "findfont = mpl.font_manager.fontManager.findfont\n",
        "mpl.font_manager.findfont = findfont\n",
        "mpl.backends.backend_agg.findfont = findfont\n",
        "\n",
        "import matplotlib.pyplot as plt\n",
        "plt.rc('font', family = 'NanumGothic')\n",
        "plt.rcParams['axes.unicode_minus'] = False\n",
        "plt.title('한글제목')\n",
        "plt.plot([-1,0,1])\n",
        "plt.show()\n",
        "\n"
      ]
    },
    {
      "cell_type": "code",
      "source": [
        "import csv\n",
        "data1 = csv.reader(open('ele.csv'))\n",
        "data2 = csv.reader(open('pop.csv'))\n",
        "ele_cn=[]\n",
        "pop_cn=[]\n",
        "\n",
        "for row in data1 :\n",
        "  if row[0] == '충남' and row[1] == '계' :\n",
        "    for i in range(6,8) :\n",
        "      ele_cn.append(int(row[2+(i-1)*15]))\n",
        "    for x in range(1,8) :\n",
        "      ele_cn.append(int(row[107+(x-1)*17])) #중간부터 셀이 늘어나서 규칙을 바꿨습니다. \n",
        "\n",
        "for row in data2 :\n",
        "  if row[1] == '충청남도  ' :\n",
        "    for i in range(1,10) :\n",
        "      pop_cn.append(int(row[2+(i-1)*4]))\n",
        "\n",
        "import matplotlib.pyplot as plt\n",
        "\n",
        "plt.subplot(2, 1, 1) #한 그래프 안에 다른 y축을 가진 그래프를 넣고 싶었으나 너무 어려워서 그래프 두 개를 한번에 하는 것으로 타협했습니다..\n",
        "plt.plot(range(2012,2021),ele_cn, c='red', label = '초등학교수')\n",
        "plt.title('충청남도 초등학교수와 인구의 변화 관계')\n",
        "plt.legend()\n",
        "\n",
        "plt.subplot(2, 1, 2)\n",
        "plt.plot(range(2012,2021),pop_cn, label='인구수')\n",
        "current_values = plt.gca().get_yticks()\n",
        "plt.gca().set_yticklabels(['{:.0f}'.format(x) for x in current_values]) #y축이 지수로 표현되서 구글링을 통해 참고했습니다.\n",
        "\n",
        "plt.legend()\n",
        "plt.show()"
      ],
      "metadata": {
        "id": "rLnbeqxLSYA7",
        "colab": {
          "base_uri": "https://localhost:8080/",
          "height": 279
        },
        "outputId": "c8b49026-6a04-4e7c-b956-11e79b6e47cf"
      },
      "execution_count": null,
      "outputs": [
        {
          "output_type": "display_data",
          "data": {
            "text/plain": [
              "<Figure size 432x288 with 2 Axes>"
            ],
            "image/png": "[encoded data removed]"
          },
          "metadata": {
            "needs_background": "light"
          }
        }
      ]
    },
    {
      "cell_type": "code",
      "source": [
        ""
      ],
      "metadata": {
        "id": "Td3Hm4VRiC7w"
      },
      "execution_count": null,
      "outputs": []
    }
  ]
}